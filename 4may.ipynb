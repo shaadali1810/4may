{
 "cells": [
  {
   "cell_type": "code",
   "execution_count": 1,
   "id": "e3dee5da-6a6d-473b-bb54-8316e9e845aa",
   "metadata": {},
   "outputs": [],
   "source": [
    "#1Time series analysis helps organizations understand the underlying causes of trends or systemic patterns over time. Using data visualizations, business users can see seasonal trends and dig deeper into why these trends occur. With modern analytics platforms, these visualizations can go far beyond line graphs."
   ]
  },
  {
   "cell_type": "code",
   "execution_count": 3,
   "id": "168501fc-1e3c-4040-8762-662bfa482efb",
   "metadata": {},
   "outputs": [],
   "source": [
    "#2Q2. What are some common time series patterns, and how can they be identified and interpreted"
   ]
  },
  {
   "cell_type": "markdown",
   "id": "79dd9ede-ae99-4fbb-bc37-ba8011f8e9a1",
   "metadata": {},
   "source": [
    "### "
   ]
  },
  {
   "cell_type": "code",
   "execution_count": 4,
   "id": "41865ad0-da9b-4006-9272-7e62c9e9519c",
   "metadata": {},
   "outputs": [],
   "source": [
    "#3The initial step in preprocessing time series datasets involves a comprehensive analysis of data attributes. This includes examining the distribution and frequency of data, identifying any noise, outliers, or missing values, and checking for stationarity"
   ]
  },
  {
   "cell_type": "code",
   "execution_count": 7,
   "id": "819ea935-f2b3-4452-8afa-d2bf6d0dc2cc",
   "metadata": {},
   "outputs": [],
   "source": [
    "#4Time series analysis is a valuable tool for businesses seeking to make data-driven decisions and enhance their market forecasting capabilities. By identifying trends, understanding seasonality, and using forecasting techniques, businesses can gain a competitive edge in an ever-changing market landscape."
   ]
  },
  {
   "cell_type": "code",
   "execution_count": 8,
   "id": "e2d1540c-fabf-483e-a5d2-56086228d602",
   "metadata": {},
   "outputs": [],
   "source": [
    "#5An autoregressive integrated moving average, or ARIMA, is a statistical analysis model that uses time series data to either better understand the data set or to predict future trends. A statistical model is autoregressive if it predicts future values based on past values."
   ]
  },
  {
   "cell_type": "code",
   "execution_count": 9,
   "id": "42218afc-855f-4d31-9b2e-ad05c3c7636b",
   "metadata": {},
   "outputs": [],
   "source": [
    "#6CF and PACF plots: After a time series has been stationarized by differencing, the next step in fitting an ARIMA model is to determine whether AR or MA terms are needed to correct any autocorrelation that remains in the differenced series. Of course, with software like Statgraphics, you could just try some different combinations of terms and see what works best. But there is a more systematic way to do this. By looking at the autocorrelation function (ACF) and partial autocorrelation (PACF) plots of the differenced series, you can tentatively identify the numbers of AR and/or MA terms that are needed. You are already familiar with the ACF plot: it is merely a bar chart of the coefficients of correlation between a time series and lags of itself. The PACF plot is a plot of the partial correlation coefficients between the series and lags of itself."
   ]
  },
  {
   "cell_type": "code",
   "execution_count": 10,
   "id": "bf74e0bf-36fb-4f2f-8881-36c8172ba0e8",
   "metadata": {},
   "outputs": [],
   "source": [
    "#7The main assumptions of an ARIMA model are stationarity and invertibility. Stationarity means that the mean, variance, and autocorrelation of the time series data are constant over time."
   ]
  },
  {
   "cell_type": "code",
   "execution_count": 11,
   "id": "37903f40-d1d2-48d6-a121-79aaac61bb4c",
   "metadata": {},
   "outputs": [],
   "source": [
    "#Regression forecasting models use historical data and linear regression techniques to predict upcoming sales. This method looks at many different factors over time including: market conditions, customer sentiment, economic trends, consumer behavior, competition, and mor"
   ]
  },
  {
   "cell_type": "code",
   "execution_count": null,
   "id": "f50da4b6-7ee9-4d8b-ba86-93cf37783fa7",
   "metadata": {},
   "outputs": [],
   "source": [
    "#9"
   ]
  }
 ],
 "metadata": {
  "kernelspec": {
   "display_name": "Python 3 (ipykernel)",
   "language": "python",
   "name": "python3"
  },
  "language_info": {
   "codemirror_mode": {
    "name": "ipython",
    "version": 3
   },
   "file_extension": ".py",
   "mimetype": "text/x-python",
   "name": "python",
   "nbconvert_exporter": "python",
   "pygments_lexer": "ipython3",
   "version": "3.10.8"
  }
 },
 "nbformat": 4,
 "nbformat_minor": 5
}
